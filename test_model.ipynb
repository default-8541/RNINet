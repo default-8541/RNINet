{
 "cells": [
  {
   "cell_type": "code",
   "execution_count": 1,
   "id": "6b9d7feb",
   "metadata": {},
   "outputs": [],
   "source": [
    "from model.RNINet import *\n",
    "from model.network_swinir_mask import SwinIR\n",
    "from train_lab.train_base import *\n",
    "from data.dataset_multi_noise import *"
   ]
  },
  {
   "cell_type": "code",
   "execution_count": 2,
   "id": "e9b1c2e8",
   "metadata": {},
   "outputs": [],
   "source": [
    "def define_model(model_name):\n",
    "    if model_name==\"RNINet\":\n",
    "        net=RNINet(apply_prob=0.5,ep=1e-6,in_nc=3, out_nc=3,act_mode='BR')\n",
    "        pretrained_model = torch.load(\"model_zoo/checkpoint.pth\")\n",
    "        net.load_state_dict(pretrained_model, strict=True)\n",
    "    elif model_name==\"MaskTraining\":\n",
    "        opt_net= {\n",
    "              \"net_type\": \"swinir\"\n",
    "              , \"upscale\": 1\n",
    "              , \"in_chans\": 3\n",
    "              , \"img_size\": 64\n",
    "              , \"window_size\": 8\n",
    "              , \"img_range\": 1.0\n",
    "              , \"depths\": [6, 6, 6, 6]\n",
    "              , \"embed_dim\": 60\n",
    "              , \"num_heads\": [6, 6, 6, 6]\n",
    "              , \"mlp_ratio\": 2\n",
    "              , \"upsampler\": None        \n",
    "              , \"resi_connection\": \"3conv\"        \n",
    "\n",
    "              , \"init_type\": \"default\"\n",
    "\n",
    "              , \"talking_heads\": False\n",
    "              , \"attn_fn\": \"softmax\"\n",
    "              , \"head_scale\": False\n",
    "              , \"on_attn\": False\n",
    "\n",
    "              , \"use_mask\": True         \n",
    "              , \"mask_ratio1\": 75        \n",
    "              , \"mask_ratio2\": 75        \n",
    "              , \"mask_is_diff\": False\n",
    "\n",
    "              , \"type\": \"stand\"\n",
    "\n",
    "            }\n",
    "        net = SwinIR(upscale=opt_net['upscale'],\n",
    "                           in_chans=opt_net['in_chans'],\n",
    "                           img_size=opt_net['img_size'],\n",
    "                           window_size=opt_net['window_size'],\n",
    "                           img_range=opt_net['img_range'],\n",
    "                           depths=opt_net['depths'],\n",
    "                           embed_dim=opt_net['embed_dim'],\n",
    "                           num_heads=opt_net['num_heads'],\n",
    "                           mlp_ratio=opt_net['mlp_ratio'],\n",
    "                           upsampler=opt_net['upsampler'],\n",
    "                           resi_connection=opt_net['resi_connection'],\n",
    "                           talking_heads=opt_net['talking_heads'], \n",
    "                           use_attn_fn=opt_net['attn_fn'],                   \n",
    "                           head_scale=opt_net['head_scale'],                   \n",
    "                           on_attn=opt_net['on_attn'],     \n",
    "                           use_mask=opt_net['use_mask'],     \n",
    "                           mask_ratio1=opt_net['mask_ratio1'],     \n",
    "                           mask_ratio2=opt_net['mask_ratio2'],     \n",
    "                           mask_is_diff=opt_net['mask_is_diff'],     \n",
    "                           type=opt_net['type'],     \n",
    "                           opt=opt_net,     \n",
    "                           )\n",
    "        pretrained_model = torch.load(\"model_zoo/input_mask_80_90.pth\")\n",
    "        net.load_state_dict(pretrained_model, strict=True)\n",
    "    return net"
   ]
  },
  {
   "cell_type": "code",
   "execution_count": 8,
   "id": "ccf953dc",
   "metadata": {},
   "outputs": [],
   "source": [
    "net=define_model(\"RNINet\")\n",
    "device=\"cuda:0\"\n",
    "net.eval()\n",
    "net.to(device)"
   ]
  },
  {
   "cell_type": "code",
   "execution_count": 4,
   "id": "c5525dca",
   "metadata": {},
   "outputs": [
    {
     "name": "stdout",
     "output_type": "stream",
     "text": [
      "LogHandlers setup!\n"
     ]
    }
   ],
   "source": [
    "data_path=\"home/testsets/McMaster/\"\n",
    "n_channels=3\n",
    "alpha=1.5\n",
    "label=\"test\"\n",
    "#label=\"MC_mask_test\"\n",
    "logger_info(label,label+\".log\")"
   ]
  },
  {
   "cell_type": "code",
   "execution_count": 5,
   "id": "dd672a4f",
   "metadata": {},
   "outputs": [
    {
     "name": "stdout",
     "output_type": "stream",
     "text": [
      "Dataset: MultiNoise. Only dataroot_H is needed.\n"
     ]
    }
   ],
   "source": [
    "noise_opt={\"noise_type\":\"Poisson Noise\",\"alpha\":alpha}\n",
    "test_loader=create_dataset(data_path,n_channels,noise_opt)"
   ]
  },
  {
   "cell_type": "code",
   "execution_count": 7,
   "id": "2d764109",
   "metadata": {},
   "outputs": [
    {
     "name": "stderr",
     "output_type": "stream",
     "text": [
      "25-07-13 14:59:20.137 : testset test_1.5, iter_time 123456, avg psnr/ssim is 33.65/0.9067\n"
     ]
    }
   ],
   "source": [
    "test_backbone(net,device, label+\"_\"+str(alpha),\"123456\",test_loader,label)\n",
    "#model,device_name, testset,iter_time,test_loader,logger_name"
   ]
  },
  {
   "cell_type": "code",
   "execution_count": null,
   "id": "41b9d2f5",
   "metadata": {},
   "outputs": [],
   "source": []
  }
 ],
 "metadata": {
  "kernelspec": {
   "display_name": "Python 3 (ipykernel)",
   "language": "python",
   "name": "python3"
  },
  "language_info": {
   "codemirror_mode": {
    "name": "ipython",
    "version": 3
   },
   "file_extension": ".py",
   "mimetype": "text/x-python",
   "name": "python",
   "nbconvert_exporter": "python",
   "pygments_lexer": "ipython3",
   "version": "3.9.7"
  }
 },
 "nbformat": 4,
 "nbformat_minor": 5
}
